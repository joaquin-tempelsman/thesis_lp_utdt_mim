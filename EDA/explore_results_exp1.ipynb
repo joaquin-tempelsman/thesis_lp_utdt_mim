{
 "cells": [
  {
   "cell_type": "code",
   "execution_count": null,
   "id": "a0fcaecd",
   "metadata": {},
   "outputs": [],
   "source": [
    "import json\n",
    "import numpy as np\n",
    "import pandas as pd\n",
    "import warnings\n",
    "warnings.filterwarnings('ignore')\n",
    "import matplotlib.pyplot as plt\n",
    "import seaborn as sns\n",
    "import os\n",
    "import plotly.io as pio\n",
    "pio.renderers.default = \"notebook\"\n",
    "import plotly.express as px\n",
    "\n",
    "from eda_utils import (\n",
    "    read_scip_log,\n",
    "    format_log_df,\n",
    "    operations_plots,\n",
    "    objective_function_plots,\n",
    "    get_month_difference,\n",
    "    get_revenue_before_eow,\n",
    "    get_business_sales,\n",
    ")\n",
    "\n",
    "pd.set_option('display.float_format', lambda x: '%.3f' % x)\n",
    "\n",
    "%load_ext autoreload\n",
    "%autoreload 2\n"
   ]
  },
  {
   "cell_type": "code",
   "execution_count": null,
   "id": "8c4aaaa4",
   "metadata": {},
   "outputs": [],
   "source": [
    "business_sales_path = \"../data/business_sales.csv\"\n",
    "\n",
    "with open(\"../lp_logs/experiments_results.json\") as json_file:\n",
    "    experiment_results = json.load(json_file)\n",
    "with open(\"../lp_logs/params.json\") as json_file:\n",
    "    PARAMS = json.load(json_file)"
   ]
  },
  {
   "cell_type": "code",
   "execution_count": null,
   "id": "bb85629c",
   "metadata": {},
   "outputs": [],
   "source": [
    "for experiment, value in experiment_results.items():\n",
    "    Log_df = read_scip_log(f\"../lp_logs/{experiment}.log\")\n",
    "    Log_df = format_log_df(Log_df)\n",
    "\n",
    "    # periods_before_eow = get_month_difference(\n",
    "    #    experiment_results[experiment][\"fecha_inicio\"],\n",
    "    #    experiment_results[experiment][\"fecha_fin_ejercicio\"],\n",
    "    # )\n",
    "\n",
    "    periods_before_eow = experiment_results[experiment].get(\n",
    "        \"eow\", experiment_results[experiment][\"periodos_modelo\"]\n",
    "    )\n",
    "    experiment_results[experiment][\"periods_before_eow\"] = periods_before_eow\n",
    "\n",
    "    (\n",
    "        experiment_results[experiment][\"lp_sum_cost_function\"],\n",
    "        experiment_results[experiment][\"lp_stockquote_before_eow_SELL\"],\n",
    "        experiment_results[experiment][\"stock_eow_df\"],\n",
    "    ) = get_revenue_before_eow(\n",
    "        Log_df, periods_before_eow, PARAMS, experiment_results, experiment\n",
    "    )"
   ]
  },
  {
   "cell_type": "code",
   "execution_count": null,
   "id": "47465a23",
   "metadata": {},
   "outputs": [],
   "source": [
    "df_table = pd.DataFrame()\n",
    "for experiment, value in experiment_results.items():\n",
    "    series = (\n",
    "        pd.Series(\n",
    "            {\n",
    "                \"experiment\": experiment,\n",
    "                \"fecha_inicio\": value[\"fecha_inicio\"],\n",
    "                \"fecha_fin_ejercicio\": value[\"fecha_fin_ejercicio\"],\n",
    "                \"periodos_modelo\": value[\"periodos_modelo\"],\n",
    "                \"fix_prices\": value[\"fix_prices\"],\n",
    "                \"lp_stock_historical_cost\": value[\"lp_stock_history_cost\"],\n",
    "                \"lp_sum_cost_function\": value[\"lp_sum_cost_function\"],\n",
    "                \"lp_stockquote_before_eow_SELL\": value[\"lp_stockquote_before_eow_SELL\"],\n",
    "                \"lp_grand_total_before_eow\": value[\"lp_sum_cost_function\"]\n",
    "                - value[\"lp_stock_history_cost\"]\n",
    "                + value[\"lp_stockquote_before_eow_SELL\"],\n",
    "                \"business_grand_total\": value[\"business_results\"][\"grand_total\"],\n",
    "                \"business_sales_margin\": value[\"business_results\"][\"sales_margin\"],\n",
    "                \"stock_revenue_sum\": value[\"business_results\"][\"stock_revenue_sum\"],\n",
    "                \"stock_cost_sum\": value[\"business_results\"][\"stock_cost_sum\"],\n",
    "            }\n",
    "        )\n",
    "        .to_frame()\n",
    "        .T\n",
    "    )\n",
    "    df_table = pd.concat([df_table, series])\n",
    "\n",
    "df_table[\"impact\"] = (\n",
    "    df_table[\"lp_grand_total_before_eow\"] - df_table[\"business_grand_total\"]\n",
    ") / df_table[\"business_grand_total\"]\n",
    "df_table[\"impact\"] = (df_table[\"impact\"].apply(round, args=[2]) * 100).astype(int)\n",
    "\n",
    "\n",
    "df_table.loc[df_table.experiment == \"2019_24periods_real_prices\"]"
   ]
  },
  {
   "cell_type": "code",
   "execution_count": null,
   "id": "a3eee7dd",
   "metadata": {},
   "outputs": [],
   "source": [
    "experiment_results[\"2019_24periods_real_prices\"]"
   ]
  },
  {
   "cell_type": "code",
   "execution_count": null,
   "id": "f7a70e5b",
   "metadata": {},
   "outputs": [],
   "source": [
    "business_final_stock = pd.read_csv(\n",
    "    \"../lp_logs/df_final_stock_value_2019_48period_fix_prices.csv\"\n",
    ")\n",
    "business_final_stock = business_final_stock.loc[business_final_stock[\"qty\"] != 0]\n",
    "business_final_stock"
   ]
  },
  {
   "cell_type": "code",
   "execution_count": null,
   "id": "27e56bb9",
   "metadata": {},
   "outputs": [],
   "source": [
    "pd.set_option(\"display.max_rows\", None)\n",
    "\n",
    "df = pd.read_csv(\"../ventastest.csv\")\n",
    "df.loc[df.VENTA_VALOR > 0].sum()"
   ]
  },
  {
   "cell_type": "code",
   "execution_count": null,
   "id": "a10c2c65",
   "metadata": {},
   "outputs": [],
   "source": [
    "experiment = \"2019_24periods_real_prices\"\n",
    "# periods_before_eow = experiment_results[experiment][\"periods_before_eow\"]\n",
    "\n",
    "Log_df = read_scip_log(f\"../lp_logs/{experiment}.log\")\n",
    "Log_df = format_log_df(Log_df)\n",
    "\n",
    "operations_plots(\n",
    "    Log_df,\n",
    "    periodos_modelo=experiment_results[experiment][\"periodos_modelo\"],\n",
    "    periods_before_eow=periods_before_eow,\n",
    ")\n",
    "\n",
    "objective_function_plots(\n",
    "    Log_df,\n",
    "    periodos_modelo=experiment_results[experiment][\"periodos_modelo\"],\n",
    "    periods_before_eow=periods_before_eow,\n",
    ")\n",
    "\n",
    "get_business_sales(business_sales_path, experiment, experiment_results)"
   ]
  },
  {
   "cell_type": "code",
   "execution_count": null,
   "id": "a9d9cf22",
   "metadata": {},
   "outputs": [],
   "source": [
    "print(\n",
    "    Log_df.loc[Log_df[\"var\"] == \"x\"]\n",
    "    .loc[Log_df[\"t\"] == 1]\n",
    "    .loc[Log_df[\"class\"] == \"3\"][\"value\"]\n",
    "    .sum(),\n",
    "    Log_df.loc[Log_df[\"var\"] == \"x\"]\n",
    "    .loc[Log_df[\"t\"] == Log_df[\"t\"].max()]\n",
    "    .loc[Log_df[\"class\"] == \"3\"][\"value\"]\n",
    "    .sum(),\n",
    ")"
   ]
  },
  {
   "cell_type": "code",
   "execution_count": null,
   "id": "32ddcba4",
   "metadata": {},
   "outputs": [],
   "source": [
    "df_p_fix = pd.read_csv(\"../lp_logs/df_precios_fixFalse.csv\", index_col=False)\n",
    "df_p_fix[\"YYYYMM\"] = pd.to_datetime(df_p_fix[\"YYYYMM\"], format=\"%Y%m\")\n",
    "df_p_fix = df_p_fix.melt(\n",
    "    id_vars=[\"YYYYMM\"],\n",
    "    value_vars=[\"VAQUILLONAS270\", \"VAQUILLONAS391\", \"NOVILLITOS300\", \"NOVILLITOS391\"],\n",
    ")\n",
    "\n",
    "fig0 = sns.lineplot(data=df_p_fix, x=\"YYYYMM\", y=\"value\", hue=\"variable\")\n",
    "fig0.figure.set_size_inches(14, 6)"
   ]
  }
 ],
 "metadata": {
  "kernelspec": {
   "display_name": ".venv",
   "language": "python",
   "name": "python3"
  },
  "language_info": {
   "codemirror_mode": {
    "name": "ipython",
    "version": 3
   },
   "file_extension": ".py",
   "mimetype": "text/x-python",
   "name": "python",
   "nbconvert_exporter": "python",
   "pygments_lexer": "ipython3",
   "version": "3.10.5"
  },
  "vscode": {
   "interpreter": {
    "hash": "4efcaedce4fb114d846e2d0242e28239acaf891ca69a5ad0204dd83873777535"
   }
  }
 },
 "nbformat": 4,
 "nbformat_minor": 5
}
