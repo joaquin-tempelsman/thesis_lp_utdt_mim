{
 "cells": [
  {
   "cell_type": "code",
   "execution_count": null,
   "id": "a0fcaecd",
   "metadata": {},
   "outputs": [],
   "source": [
    "import json\n",
    "import numpy as np\n",
    "import pandas as pd\n",
    "import warnings\n",
    "warnings.filterwarnings('ignore')\n",
    "import matplotlib.pyplot as plt\n",
    "import seaborn as sns\n",
    "import os\n",
    "import plotly.io as pio\n",
    "pio.renderers.default = \"notebook\"\n",
    "import plotly.express as px\n",
    "\n",
    "from eda_utils import (\n",
    "    read_scip_log,\n",
    "    format_log_df,\n",
    "    operations_plots,\n",
    "    objective_function_plots,\n",
    "    get_month_difference,\n",
    "    get_revenue_before_eow,\n",
    ")\n",
    "\n",
    "pd.set_option('display.float_format', lambda x: '%.3f' % x)\n",
    "\n",
    "%load_ext autoreload\n",
    "%autoreload 2\n"
   ]
  },
  {
   "cell_type": "code",
   "execution_count": null,
   "id": "8a4980ac",
   "metadata": {},
   "outputs": [],
   "source": [
    "experiment = \"2019_24periods_12eow_real_prices\""
   ]
  },
  {
   "cell_type": "code",
   "execution_count": null,
   "id": "8c4aaaa4",
   "metadata": {},
   "outputs": [],
   "source": [
    "with open(\"../lp_logs/experiments_results.json\") as json_file:\n",
    "    experiment_results = json.load(json_file)\n",
    "with open(\"../lp_logs/params.json\") as json_file:\n",
    "    PARAMS = json.load(json_file)\n",
    "\n",
    "\n",
    "Log_df = read_scip_log(f\"../lp_logs/{experiment}.log\")\n",
    "Log_df = format_log_df(Log_df)\n",
    "periods_before_eow = get_month_difference(\n",
    "    experiment_results[experiment][\"fecha_inicio\"],\n",
    "    experiment_results[experiment][\"fecha_fin_ejercicio\"],\n",
    ")"
   ]
  },
  {
   "cell_type": "code",
   "execution_count": null,
   "id": "cfca2713",
   "metadata": {},
   "outputs": [],
   "source": [
    "Log_df = read_scip_log(f\"../lp_logs/{experiment}.log\")\n",
    "\n",
    "# Log_df['unit_impact_on_obj_func'] = Log_df.unit_impact_on_obj_func.astype(float)\n",
    "# Log_df.loc[Log_df.unit_impact_on_obj_func > 1000]\n",
    "\n",
    "Log_df = format_log_df(Log_df)\n",
    "Log_df.loc[Log_df.impact_on_obj_func > 1000000]"
   ]
  },
  {
   "cell_type": "code",
   "execution_count": null,
   "id": "1f3d67b5",
   "metadata": {},
   "outputs": [],
   "source": [
    "operations_plots(\n",
    "    Log_df,\n",
    "    periodos_modelo=experiment_results[experiment][\"periodos_modelo\"],\n",
    "    periods_before_eow=periods_before_eow,\n",
    ")\n",
    "\n",
    "objective_function_plots(\n",
    "    Log_df,\n",
    "    periodos_modelo=experiment_results[experiment][\"periodos_modelo\"],\n",
    "    periods_before_eow=periods_before_eow,\n",
    ")"
   ]
  },
  {
   "cell_type": "code",
   "execution_count": null,
   "id": "dc9f8297",
   "metadata": {},
   "outputs": [],
   "source": [
    "experiment_results[experiment][\"lp_revenue_before_eow\"] = get_revenue_before_eow(\n",
    "    Log_df, periods_before_eow, PARAMS, experiment_results, experiment\n",
    ")\n",
    "\n",
    "experiment_results[experiment][\"lp_revenue_eow\"] = Log_df[\"impact_on_obj_func\"].sum()"
   ]
  },
  {
   "cell_type": "code",
   "execution_count": null,
   "id": "b9032fb9",
   "metadata": {},
   "outputs": [],
   "source": [
    "# Create DataFrame\n",
    "data = {\n",
    "    \"type\": [\"LP\", \"LP\", \"LP\", \"Business\", \"Business\", \"Business\"],\n",
    "    \"desc\": [\n",
    "        \"lp_revenue_eow\",\n",
    "        \"lp_stock_history_cost\",\n",
    "        \"lp_revenue_before_eow\",\n",
    "        \"stock_value\",\n",
    "        \"sales_value\",\n",
    "        \"grand_total\",\n",
    "    ],\n",
    "    \"value\": [\n",
    "        experiment_results[experiment][\"lp_revenue_eow\"],\n",
    "        experiment_results[experiment][\"lp_stock_history_cost\"],\n",
    "        experiment_results[experiment][\"lp_revenue_before_eow\"],\n",
    "        experiment_results[experiment][\"business_results\"][\"stock_value\"],\n",
    "        experiment_results[experiment][\"business_results\"][\"sales_value\"],\n",
    "        experiment_results[experiment][\"business_results\"][\"grand_total\"],\n",
    "    ],\n",
    "}\n",
    "\n",
    "df = pd.DataFrame(data)\n",
    "df"
   ]
  },
  {
   "cell_type": "code",
   "execution_count": null,
   "id": "451e7703",
   "metadata": {},
   "outputs": [],
   "source": []
  }
 ],
 "metadata": {
  "kernelspec": {
   "display_name": ".venv",
   "language": "python",
   "name": "python3"
  },
  "language_info": {
   "codemirror_mode": {
    "name": "ipython",
    "version": 3
   },
   "file_extension": ".py",
   "mimetype": "text/x-python",
   "name": "python",
   "nbconvert_exporter": "python",
   "pygments_lexer": "ipython3",
   "version": "3.10.5"
  },
  "vscode": {
   "interpreter": {
    "hash": "4efcaedce4fb114d846e2d0242e28239acaf891ca69a5ad0204dd83873777535"
   }
  }
 },
 "nbformat": 4,
 "nbformat_minor": 5
}
