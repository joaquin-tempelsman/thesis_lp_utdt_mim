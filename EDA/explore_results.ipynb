{
 "cells": [
  {
   "cell_type": "code",
   "execution_count": null,
   "id": "a0fcaecd",
   "metadata": {},
   "outputs": [],
   "source": [
    "import json\n",
    "import numpy as np\n",
    "import pandas as pd\n",
    "import warnings\n",
    "warnings.filterwarnings('ignore')\n",
    "import matplotlib.pyplot as plt\n",
    "import seaborn as sns\n",
    "import os\n",
    "import plotly.io as pio\n",
    "pio.renderers.default = \"notebook\"\n",
    "import plotly.express as px\n",
    "\n",
    "from eda_utils import (\n",
    "    read_scip_log,\n",
    "    format_log_df,\n",
    "    operations_plots,\n",
    "    objective_function_plots,\n",
    "    get_month_difference,\n",
    "    get_revenue_before_eow,\n",
    ")\n",
    "\n",
    "pd.set_option('display.float_format', lambda x: '%.3f' % x)\n",
    "\n",
    "%load_ext autoreload\n",
    "%autoreload 2\n"
   ]
  },
  {
   "cell_type": "code",
   "execution_count": null,
   "id": "8a4980ac",
   "metadata": {},
   "outputs": [],
   "source": [
    "experiment = \"2019_24periods_12eow_real_prices\""
   ]
  },
  {
   "cell_type": "code",
   "execution_count": null,
   "id": "8c4aaaa4",
   "metadata": {},
   "outputs": [],
   "source": [
    "with open(\"../lp_logs/experiments_results.json\") as json_file:\n",
    "    experiment_results = json.load(json_file)\n",
    "with open(\"../lp_logs/params.json\") as json_file:\n",
    "    PARAMS = json.load(json_file)"
   ]
  },
  {
   "cell_type": "code",
   "execution_count": null,
   "id": "bb85629c",
   "metadata": {},
   "outputs": [],
   "source": [
    "for experiment, value in experiment_results.items():\n",
    "    Log_df = read_scip_log(f\"../lp_logs/{experiment}.log\")\n",
    "    Log_df = format_log_df(Log_df)\n",
    "\n",
    "    periods_before_eow = get_month_difference(\n",
    "        experiment_results[experiment][\"fecha_inicio\"],\n",
    "        experiment_results[experiment][\"fecha_fin_ejercicio\"],\n",
    "    )\n",
    "\n",
    "    experiment_results[experiment][\"lp_revenue_before_eow\"] = get_revenue_before_eow(\n",
    "        Log_df, periods_before_eow, PARAMS, experiment_results, experiment\n",
    "    )\n",
    "\n",
    "    experiment_results[experiment][\"lp_revenue_eow\"] = Log_df[\n",
    "        \"impact_on_obj_func\"\n",
    "    ].sum()"
   ]
  },
  {
   "cell_type": "code",
   "execution_count": null,
   "id": "fe9b269c",
   "metadata": {},
   "outputs": [],
   "source": [
    "experiment_results[\"2019_24periods_12eow_real_prices\"]"
   ]
  },
  {
   "cell_type": "code",
   "execution_count": null,
   "id": "47465a23",
   "metadata": {},
   "outputs": [],
   "source": [
    "df_table = pd.DataFrame()\n",
    "for experiment, value in experiment_results.items():\n",
    "    series = (\n",
    "        pd.Series(\n",
    "            {\n",
    "                \"fecha_inicio\": value[\"fecha_inicio\"],\n",
    "                \"fecha_fin_ejercicio\": value[\"fecha_fin_ejercicio\"],\n",
    "                \"periodos_modelo\": value[\"periodos_modelo\"],\n",
    "                \"fix_prices\": value[\"fix_prices\"],\n",
    "                \"lp_revenue_before_eow\": value[\"lp_revenue_before_eow\"]\n",
    "                - value[\"lp_stock_history_cost\"],\n",
    "                \"lp_revenue_eow\": value[\"lp_revenue_eow\"]\n",
    "                - value[\"lp_stock_history_cost\"],\n",
    "                \"business_grand_total\": value[\"business_results\"][\"grand_total\"],\n",
    "            }\n",
    "        )\n",
    "        .to_frame()\n",
    "        .T\n",
    "    )\n",
    "    df_table = pd.concat([df_table, series])"
   ]
  },
  {
   "cell_type": "code",
   "execution_count": null,
   "id": "1db782c9",
   "metadata": {},
   "outputs": [],
   "source": [
    "df_table[\"impact\"] = (\n",
    "    df_table[\"lp_revenue_before_eow\"] - df_table[\"business_grand_total\"]\n",
    ") / df_table[\"business_grand_total\"]\n",
    "df_table[\"impact\"] = df_table[\"impact\"].apply(round, args=[2]) * 100\n",
    "df_table"
   ]
  },
  {
   "cell_type": "code",
   "execution_count": null,
   "id": "a10c2c65",
   "metadata": {},
   "outputs": [],
   "source": [
    "operations_plots(\n",
    "    Log_df,\n",
    "    periodos_modelo=experiment_results[experiment][\"periodos_modelo\"],\n",
    "    periods_before_eow=periods_before_eow,\n",
    ")\n",
    "\n",
    "objective_function_plots(\n",
    "    Log_df,\n",
    "    periodos_modelo=experiment_results[experiment][\"periodos_modelo\"],\n",
    "    periods_before_eow=periods_before_eow,\n",
    ")"
   ]
  },
  {
   "cell_type": "code",
   "execution_count": null,
   "id": "f49dd166",
   "metadata": {},
   "outputs": [],
   "source": []
  }
 ],
 "metadata": {
  "kernelspec": {
   "display_name": ".venv",
   "language": "python",
   "name": "python3"
  },
  "language_info": {
   "codemirror_mode": {
    "name": "ipython",
    "version": 3
   },
   "file_extension": ".py",
   "mimetype": "text/x-python",
   "name": "python",
   "nbconvert_exporter": "python",
   "pygments_lexer": "ipython3",
   "version": "3.10.5"
  },
  "vscode": {
   "interpreter": {
    "hash": "4efcaedce4fb114d846e2d0242e28239acaf891ca69a5ad0204dd83873777535"
   }
  }
 },
 "nbformat": 4,
 "nbformat_minor": 5
}
